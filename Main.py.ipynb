{
 "cells": [
  {
   "cell_type": "code",
   "execution_count": 1,
   "id": "6283cc74-5744-4365-9a0d-60e0fab1aec5",
   "metadata": {},
   "outputs": [],
   "source": [
    "import requests\n",
    "from bs4 import BeautifulSoup\n",
    "import numpy as np\n",
    "import pandas as pd\n",
    "from sklearn.linear_model import LogisticRegression"
   ]
  },
  {
   "cell_type": "code",
   "execution_count": 34,
   "id": "08330b5d-6247-4cc4-9db9-2970f2ef15d0",
   "metadata": {},
   "outputs": [],
   "source": [
    "# Scrape the odds data from the cricket line guru app\n",
    "def scrape_odds_data():\n",
    "    response = requests.get(\"https://www.cricketlineguru.com/odds/\")\n",
    "    soup = BeautifulSoup(response.content, \"html.parser\")\n",
    "\n",
    "    odds_data = []\n",
    "\n",
    "    for match in soup.find_all(\"div\", class_=\"match-row\"):\n",
    "        team1_name = match.find(\"span\", class_=\"team1-name\").text\n",
    "        team2_name = match.find(\"span\", class_=\"team2-name\").text\n",
    "        odds1 = float(match.find(\"span\", class_=\"odds1\").text)\n",
    "        odds2 = float(match.find(\"span\", class_=\"odds2\").text)\n",
    "\n",
    "        odds_data.append([team1_name, team2_name, odds1, odds2])\n",
    "\n",
    "    return odds_data"
   ]
  },
  {
   "cell_type": "code",
   "execution_count": 35,
   "id": "b20d049a-3a72-4c3d-8b6e-7f63a7d41f95",
   "metadata": {},
   "outputs": [],
   "source": [
    "# Clean and pre-process the odds data\n",
    "def clean_and_preprocess_odds_data(odds_data):\n",
    "    odds_data = pd.DataFrame(odds_data, columns=[\"team1_name\", \"team2_name\", \"odds1\", \"odds2\"])\n",
    "    odds_data = odds_data.dropna()\n",
    "\n",
    "    return odds_data\n"
   ]
  },
  {
   "cell_type": "code",
   "execution_count": 36,
   "id": "aeefd7db-7ed2-441d-8e45-88efb0fced61",
   "metadata": {},
   "outputs": [],
   "source": [
    "# Engineer features from the odds data\n",
    "def engineer_features(odds_data):\n",
    "    odds_data[\"odds_ratio\"] = odds_data[\"odds1\"] / odds_data[\"odds2\"]\n",
    "\n",
    "    return odds_data\n"
   ]
  },
  {
   "cell_type": "code",
   "execution_count": 37,
   "id": "8f30aa09-fb55-4193-a46d-0c1be6fba872",
   "metadata": {},
   "outputs": [],
   "source": [
    "# Train a machine learning model to predict the probability of each team winning\n",
    "def train_model(odds_data):\n",
    "    X = odds_data[[\"odds_ratio\"]]\n",
    "    y = odds_data[\"team1_name\"]\n",
    "\n",
    "    model = LogisticRegression()\n",
    "    model.fit(X, y)\n",
    "\n",
    "    return model\n"
   ]
  },
  {
   "cell_type": "code",
   "execution_count": 48,
   "id": "d5e28c47-7100-46a2-825b-7f8d8bdd2664",
   "metadata": {},
   "outputs": [],
   "source": [
    "# Evaluate the performance of the trained model on a held-out test set\n",
    "def evaluate_model(model, odds_data):\n",
    "    X_test = odds_data[[\"odds_ratio\"]]\n",
    "    y_test = odds_data[\"team1_name\"]\n",
    "\n",
    "    y_pred = model.predict(X_test)\n",
    "\n",
    "    accuracy = np.mean(y_pred == y_test)\n",
    "\n",
    "    print(\"Accuracy:\", accuracy)\n"
   ]
  },
  {
   "cell_type": "code",
   "execution_count": 39,
   "id": "da92441f-fbb7-4f7a-9d1b-81f10b7b96f5",
   "metadata": {},
   "outputs": [],
   "source": [
    "# Deploy the trained model to production\n",
    "def deploy_model(model):\n",
    "    # Save the model to a file\n",
    "    with open(\"odds_prediction_model.pkl\", \"wb\") as f:\n",
    "        pickle.dump(model, f)\n"
   ]
  },
  {
   "cell_type": "code",
   "execution_count": 54,
   "id": "b91ebe0f-33cc-47dd-a69f-333ce5e786b0",
   "metadata": {},
   "outputs": [],
   "source": [
    "# Use the model to predict the right time to buy and sell a bet\n",
    "def predict_right_time_to_bet(model, odds_data):\n",
    "    X = odds_data[[\"odds_ratio\"]]\n",
    "\n",
    "    y_pred = model.predict(X)\n",
    "\n",
    "    # If the model predicts that the team with the lower odds is likely to win, then it is a good time to buy a bet on that team.\n",
    "    # If the model predicts that the team with the higher odds is likely to win, then it is a good time to sell a bet on that team.\n",
    "\n",
    "    return y_pred\n"
   ]
  },
  {
   "cell_type": "code",
   "execution_count": null,
   "id": "0f561acc-4560-48ad-a0b9-4245699abb98",
   "metadata": {},
   "outputs": [],
   "source": []
  }
 ],
 "metadata": {
  "kernelspec": {
   "display_name": "Python 3 (ipykernel)",
   "language": "python",
   "name": "python3"
  },
  "language_info": {
   "codemirror_mode": {
    "name": "ipython",
    "version": 3
   },
   "file_extension": ".py",
   "mimetype": "text/x-python",
   "name": "python",
   "nbconvert_exporter": "python",
   "pygments_lexer": "ipython3",
   "version": "3.10.8"
  }
 },
 "nbformat": 4,
 "nbformat_minor": 5
}
